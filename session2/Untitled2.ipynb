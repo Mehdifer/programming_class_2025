{
 "cells": [
  {
   "cell_type": "code",
   "execution_count": 1,
   "id": "cac52be5-81e5-4363-90fe-e1a5865d59ea",
   "metadata": {},
   "outputs": [
    {
     "name": "stdout",
     "output_type": "stream",
     "text": [
      "69\n"
     ]
    },
    {
     "data": {
      "text/plain": [
       "69"
      ]
     },
     "execution_count": 1,
     "metadata": {},
     "output_type": "execute_result"
    }
   ],
   "source": [
    "number = 69\n",
    "print(number)\n",
    "number"
   ]
  },
  {
   "cell_type": "code",
   "execution_count": 3,
   "id": "fe6d5404-f9b4-4a3a-8680-2bed022b066d",
   "metadata": {},
   "outputs": [
    {
     "name": "stdout",
     "output_type": "stream",
     "text": [
      "this is Mehdi freidooni\n"
     ]
    }
   ],
   "source": [
    "str_1 = \"this is Mehdi freidooni\"\n",
    "print(str_1)"
   ]
  },
  {
   "cell_type": "code",
   "execution_count": 10,
   "id": "184d856c-7b83-4dd1-9987-a42234c1b517",
   "metadata": {},
   "outputs": [
    {
     "data": {
      "text/plain": [
       "\"barack's last name is obama\""
      ]
     },
     "execution_count": 10,
     "metadata": {},
     "output_type": "execute_result"
    }
   ],
   "source": [
    "'barack\\'s last name is obama'\n"
   ]
  },
  {
   "cell_type": "code",
   "execution_count": 5,
   "id": "b8c01fef-af41-417b-91dc-5a23c4bde6d5",
   "metadata": {},
   "outputs": [
    {
     "name": "stdout",
     "output_type": "stream",
     "text": [
      "True\n",
      "False\n"
     ]
    }
   ],
   "source": [
    "x = True\n",
    "y = False\n",
    "print(x)\n",
    "print(y)"
   ]
  },
  {
   "cell_type": "code",
   "execution_count": 6,
   "id": "f2e489a9-6466-4f54-8cd5-df0486dda6b5",
   "metadata": {},
   "outputs": [
    {
     "name": "stdout",
     "output_type": "stream",
     "text": [
      "74\n",
      "60\n",
      "9.571428571428571\n",
      "469\n",
      "4\n"
     ]
    }
   ],
   "source": [
    "a = 67\n",
    "b = 7\n",
    "print(a+b)\n",
    "print(a-b)\n",
    "print(a/b)\n",
    "print(a*b)\n",
    "print(a%b)"
   ]
  },
  {
   "cell_type": "code",
   "execution_count": 7,
   "id": "6068135d-5fd6-4c1e-9ac4-761d9e60ec5d",
   "metadata": {},
   "outputs": [
    {
     "name": "stdout",
     "output_type": "stream",
     "text": [
      "<class 'str'>\n",
      "<class 'float'>\n",
      "<class 'int'>\n",
      "15\n"
     ]
    }
   ],
   "source": [
    "name = 'Mehdi freidooni'\n",
    "print(type(name))\n",
    "number1 = 10.5\n",
    "print(type(number1))\n",
    "number2 = 10\n",
    "print(type(number2))\n",
    "print(len(name))"
   ]
  },
  {
   "cell_type": "code",
   "execution_count": 8,
   "id": "7f0948fe-654f-47f4-b67c-a9c384bb7e0f",
   "metadata": {},
   "outputs": [
    {
     "name": "stdout",
     "output_type": "stream",
     "text": [
      "Mehdi freidoon\n",
      "Mehdi freidooniMehdi freidooniMehdi freidooni\n"
     ]
    }
   ],
   "source": [
    "plus_name = 'Mehdi' + ' ' + 'freidoon'\n",
    "print(plus_name)\n",
    "print(3*name)"
   ]
  },
  {
   "cell_type": "code",
   "execution_count": null,
   "id": "90b96359-cc34-4d34-9bf2-4904e60cd40d",
   "metadata": {},
   "outputs": [],
   "source": []
  }
 ],
 "metadata": {
  "kernelspec": {
   "display_name": "Python 3 (ipykernel)",
   "language": "python",
   "name": "python3"
  },
  "language_info": {
   "codemirror_mode": {
    "name": "ipython",
    "version": 3
   },
   "file_extension": ".py",
   "mimetype": "text/x-python",
   "name": "python",
   "nbconvert_exporter": "python",
   "pygments_lexer": "ipython3",
   "version": "3.13.3"
  }
 },
 "nbformat": 4,
 "nbformat_minor": 5
}
