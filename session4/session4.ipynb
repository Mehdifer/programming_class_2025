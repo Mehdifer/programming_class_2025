{
 "cells": [
  {
   "cell_type": "code",
   "execution_count": 1,
   "id": "92d3f090-264a-4ac0-af8f-86287666c47f",
   "metadata": {},
   "outputs": [
    {
     "name": "stdout",
     "output_type": "stream",
     "text": [
      "['arad', 'Mehdi', 'arvin', 'Mohammad']\n",
      "['arad', 'Mehdi', 'benana', 'arvin', 'Mohammad']\n",
      "['Mehdi', 'benana', 'arvin', 'Mohammad']\n",
      "['benana', 'arvin', 'Mohammad']\n",
      "['benana', 'arvin', 'Mohammad', 'hossein']\n",
      "['benana', 'arvin', 'Mohammad', 'hossein']\n"
     ]
    }
   ],
   "source": [
    "a=['arad','Mehdi','arvin']\n",
    "b=['hossein']\n",
    "a.append('Mohammad')\n",
    "print(a)\n",
    "a.insert(2,'benana')\n",
    "print(a)\n",
    "a.remove('arad')\n",
    "print(a)\n",
    "a.pop(0)\n",
    "print(a)\n",
    "print(a+b)\n",
    "a.extend(b)\n",
    "print(a)"
   ]
  },
  {
   "cell_type": "code",
   "execution_count": null,
   "id": "a7f7f760-0adc-457f-8999-5e7c6b7544e9",
   "metadata": {},
   "outputs": [],
   "source": []
  }
 ],
 "metadata": {
  "kernelspec": {
   "display_name": "Python 3 (ipykernel)",
   "language": "python",
   "name": "python3"
  },
  "language_info": {
   "codemirror_mode": {
    "name": "ipython",
    "version": 3
   },
   "file_extension": ".py",
   "mimetype": "text/x-python",
   "name": "python",
   "nbconvert_exporter": "python",
   "pygments_lexer": "ipython3",
   "version": "3.13.3"
  }
 },
 "nbformat": 4,
 "nbformat_minor": 5
}
