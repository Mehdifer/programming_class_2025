{
 "cells": [
  {
   "cell_type": "code",
   "execution_count": 2,
   "id": "0e8d6264-94c0-4355-8e65-09de7979e5f0",
   "metadata": {},
   "outputs": [
    {
     "name": "stdout",
     "output_type": "stream",
     "text": [
      "I am Mehdi Freidooni. My student number is 4032023042\n",
      "I am Mehdi Freidooni. My student NUMBER is 4032023042\n"
     ]
    }
   ],
   "source": [
    "first_name = 'Mehdi'\n",
    "last_name = 'Freidooni'\n",
    "student_number = 4032023042\n",
    "formated_string = 'I am %s %s. My student number is %d'%(first_name,last_name,student_number)\n",
    "print(formated_string)\n",
    "print(formated_string . replace('number','NUMBER') )"
   ]
  },
  {
   "cell_type": "code",
   "execution_count": 4,
   "id": "774d4a68-d0b6-49fe-ab4d-b9b324b5acb7",
   "metadata": {},
   "outputs": [
    {
     "name": "stdout",
     "output_type": "stream",
     "text": [
      "403\n",
      "042\n",
      "042\n",
      "042\n",
      "0\n",
      "4\n",
      "2\n"
     ]
    }
   ],
   "source": [
    "student_number = '4032023042'\n",
    "first_three = student_number[0:3]\n",
    "print(first_three)\n",
    "last_three = student_number[7:10]\n",
    "print(last_three)\n",
    "last_three = student_number[7:]\n",
    "print(last_three)\n",
    "last_three = student_number[-3:]\n",
    "print(last_three)\n",
    "number_9 = student_number[-3]\n",
    "print(number_9)\n",
    "number_9 = student_number[8]\n",
    "print(number_9)\n",
    "last_one = student_number[9:]\n",
    "print(last_one)"
   ]
  },
  {
   "cell_type": "code",
   "execution_count": null,
   "id": "51ef08b9-df4c-4342-a4d1-12fad25df5e1",
   "metadata": {},
   "outputs": [],
   "source": []
  }
 ],
 "metadata": {
  "kernelspec": {
   "display_name": "Python 3 (ipykernel)",
   "language": "python",
   "name": "python3"
  },
  "language_info": {
   "codemirror_mode": {
    "name": "ipython",
    "version": 3
   },
   "file_extension": ".py",
   "mimetype": "text/x-python",
   "name": "python",
   "nbconvert_exporter": "python",
   "pygments_lexer": "ipython3",
   "version": "3.13.3"
  }
 },
 "nbformat": 4,
 "nbformat_minor": 5
}
