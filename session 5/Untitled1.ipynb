{
 "cells": [
  {
   "cell_type": "code",
   "execution_count": null,
   "id": "79ec2e7a-f29a-4012-86d0-c9d028e50087",
   "metadata": {},
   "outputs": [],
   "source": [
    "m=\"#\"\n",
    "n=1\n",
    "for i in range(1,8):\n",
    "    x=n*m\n",
    "    print(x)\n",
    "    n+=1"
   ]
  }
 ],
 "metadata": {
  "kernelspec": {
   "display_name": "Python 3 (ipykernel)",
   "language": "python",
   "name": "python3"
  },
  "language_info": {
   "codemirror_mode": {
    "name": "ipython",
    "version": 3
   },
   "file_extension": ".py",
   "mimetype": "text/x-python",
   "name": "python",
   "nbconvert_exporter": "python",
   "pygments_lexer": "ipython3",
   "version": "3.13.3"
  }
 },
 "nbformat": 4,
 "nbformat_minor": 5
}
